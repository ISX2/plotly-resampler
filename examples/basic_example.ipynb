{
 "cells": [
  {
   "cell_type": "code",
   "execution_count": 1,
   "id": "6a8b1d54-106c-4f89-842d-c1aa0b136a42",
   "metadata": {
    "pycharm": {
     "name": "#%%\n"
    }
   },
   "outputs": [],
   "source": [
    "%load_ext autoreload\n",
    "%autoreload 2"
   ]
  },
  {
   "cell_type": "code",
   "execution_count": 2,
   "id": "e42a2898-75c8-4e0a-af91-14a7d497e603",
   "metadata": {
    "pycharm": {
     "name": "#%%\n"
    }
   },
   "outputs": [],
   "source": [
    "import pandas as pd\n",
    "import numpy as np\n",
    "\n",
    "import plotly.graph_objects as go\n",
    "from plotly.subplots import make_subplots\n",
    "\n",
    "from helper import groupby_consecutive\n",
    "\n",
    "import sys\n",
    "\n",
    "sys.path.append(\"..\")\n",
    "from plotly_resampler import FigureResampler, FigureWidgetResampler, EveryNthPoint\n"
   ]
  },
  {
   "cell_type": "markdown",
   "id": "45398797",
   "metadata": {
    "pycharm": {
     "name": "#%% md\n"
    }
   },
   "source": [
    "# Adding dynamic aggregation to your plotly Figure"
   ]
  },
  {
   "cell_type": "code",
   "execution_count": 3,
   "id": "9c5d1e2f",
   "metadata": {
    "pycharm": {
     "name": "#%%\n"
    }
   },
   "outputs": [],
   "source": [
    "# Some dummy data that will be used throughout the examples\n",
    "n = 2_000_000\n",
    "x = np.arange(n)\n",
    "noisy_sine = (3 + np.sin(x / 2000) + np.random.randn(n) / 10) * x / (n / 4)\n"
   ]
  },
  {
   "cell_type": "code",
   "execution_count": null,
   "outputs": [],
   "source": [
    "## **auto mode**: `register_plotly_resampler`"
   ],
   "metadata": {
    "collapsed": false,
    "pycharm": {
     "name": "#%%\n"
    }
   }
  },
  {
   "cell_type": "markdown",
   "id": "ffdf4c2b",
   "metadata": {
    "pycharm": {
     "name": "#%% md\n"
    }
   },
   "source": [
    "Once `register_plotly_resampler` method is called, it will automatically convert all new defined plotly graph objects into a `FigureResampler` or `FigureWidgetResampler` object. The `mode` parameter of this method allows to define which type of the aforementioned resampling objects is used.\n",
    "\n",
    "✅ **advantages**:\n",
    "* This is the most convenient way to make your existing codebase more scalable\n",
    "* You can keep on using your regular graph construction code\n",
    "\n",
    "❌ **disadvantages**:\n",
    "* all figures will be wrapped with plotly-resampler behavior (less control)\n",
    "* if you want to go the extra mile regarding graph construction performance, it is better to use the `FigureResampler` or `FigureWidgetResampler` components individually."
   ]
  },
  {
   "cell_type": "code",
   "execution_count": null,
   "id": "b81403ca",
   "metadata": {
    "pycharm": {
     "name": "#%%\n"
    }
   },
   "outputs": [],
   "source": [
    "from plotly_resampler import register_plotly_resampler, unregister_plotly_resampler\n"
   ]
  },
  {
   "cell_type": "code",
   "execution_count": null,
   "id": "0371d1f3",
   "metadata": {
    "pycharm": {
     "name": "#%%\n"
    }
   },
   "outputs": [],
   "source": [
    "# by default, 1,000 samples per trace are shown\n",
    "register_plotly_resampler(mode=\"auto\", default_n_shown_samples=4500)\n"
   ]
  },
  {
   "cell_type": "code",
   "execution_count": null,
   "id": "0f4656be",
   "metadata": {
    "pycharm": {
     "name": "#%%\n"
    }
   },
   "outputs": [],
   "source": [
    "# auto mode: when working in an IPython environment, this will automatically be a\n",
    "# FigureWidgetResampler else, this will be an FigureResampler\n",
    "fig = go.Figure()\n",
    "fig.add_traces(\n",
    "    [\n",
    "        {\"y\": noisy_sine + 2, \"name\": \"yp2\", \"type\": \"scattergl\"},\n",
    "        {'y': noisy_sine - 3, 'name': 'ym1', \"type\": \"scatter\"},\n",
    "    ]\n",
    ")\n",
    "print(type(fig))\n",
    "display(fig)"
   ]
  },
  {
   "cell_type": "markdown",
   "id": "e20add02",
   "metadata": {
    "pycharm": {
     "name": "#%% md\n"
    }
   },
   "source": [
    "❗ `.show()` always returns a static html view"
   ]
  },
  {
   "cell_type": "code",
   "execution_count": null,
   "id": "0f4656be",
   "metadata": {
    "pycharm": {
     "name": "#%%\n"
    }
   },
   "outputs": [],
   "source": [
    "# this outputs a static html view of the figure, which can be serialized within notebooks\n",
    "fig.show()"
   ]
  },
  {
   "cell_type": "markdown",
   "id": "382d04ec",
   "metadata": {
    "pycharm": {
     "name": "#%% md\n"
    }
   },
   "source": [
    "### pro tip: `register_plotly_resampler` + pandas plotting backend = 🔥"
   ]
  },
  {
   "cell_type": "markdown",
   "id": "04a5919e",
   "metadata": {
    "pycharm": {
     "name": "#%% md\n"
    }
   },
   "source": [
    "The combo below allows to conveniently visualize large time_series data"
   ]
  },
  {
   "cell_type": "code",
   "execution_count": null,
   "id": "88556465",
   "metadata": {
    "pycharm": {
     "name": "#%%\n"
    }
   },
   "outputs": [],
   "source": [
    "register_plotly_resampler(mode=\"auto\", default_n_shown_samples=1500)\n",
    "# pd.options.plotting.backend = 'plotly'\n"
   ]
  },
  {
   "cell_type": "code",
   "execution_count": null,
   "id": "08dc25ff",
   "metadata": {
    "pycharm": {
     "name": "#%%\n"
    }
   },
   "outputs": [],
   "source": [
    "df = pd.DataFrame(data={\"sine\": noisy_sine, \"neg-sine\": -noisy_sine}, copy=False)\n",
    "df\n"
   ]
  },
  {
   "cell_type": "code",
   "execution_count": null,
   "id": "f10cd857",
   "metadata": {
    "pycharm": {
     "name": "#%%\n"
    }
   },
   "outputs": [],
   "source": [
    "# TODO: for some reason pandas plotting backend + datetime index work really slow\n",
    "# df.index = pd.date_range(start=\"2020-01-01\", periods=len(df), freq=\"1s\")"
   ]
  },
  {
   "cell_type": "code",
   "execution_count": null,
   "id": "67251df5",
   "metadata": {
    "pycharm": {
     "name": "#%%\n"
    }
   },
   "outputs": [],
   "source": [
    "df.plot(backend=\"plotly\")\n"
   ]
  },
  {
   "cell_type": "code",
   "execution_count": null,
   "id": "e5c7b3e6",
   "metadata": {
    "pycharm": {
     "name": "#%%\n"
    }
   },
   "outputs": [],
   "source": [
    "unregister_plotly_resampler()"
   ]
  },
  {
   "cell_type": "markdown",
   "id": "54079ce0",
   "metadata": {
    "pycharm": {
     "name": "#%% md\n"
    }
   },
   "source": [
    "## **manual mode**: Basic sine example\n"
   ]
  },
  {
   "cell_type": "markdown",
   "id": "3312e7e5",
   "metadata": {
    "pycharm": {
     "name": "#%% md\n"
    }
   },
   "source": [
    "\n",
    "✅ **advantages**:\n",
    "* Highly configurable (e.g., downsampler per trace, number of shown sample per trace)\n",
    "* Most optimizable (by leveraging the `hf_` arguments)\n",
    "\n",
    "❌ **disadvantages**:\n",
    "* more tedious (more code needs to be written)\n",
    "\n",
    "This example shows how the `FigureResampler` can be used to efficiently construct a graph"
   ]
  },
  {
   "cell_type": "code",
   "execution_count": null,
   "id": "ef449619",
   "metadata": {
    "pycharm": {
     "name": "#%%\n"
    }
   },
   "outputs": [],
   "source": [
    "# 1. Wrap the figure with the FigureResampler class\n",
    "fig = FigureResampler(go.Figure())\n",
    "\n",
    "# Add the trace using the `hf_x` & `hf_y` for faster rendering\n",
    "# (this does not impact the resampling speed once rendered)\n",
    "fig.add_trace(go.Scattergl(showlegend=True), hf_x=x, hf_y=noisy_sine, max_n_samples=300)\n",
    "# Note how a dict input is also valid and how different # of samples per trace are used\n",
    "fig.add_trace(dict(x=x, y=noisy_sine + 1, name='sp1'), max_n_samples=2000)\n",
    "\n",
    "# Optional: update the layout\n",
    "fig.update_layout(height=400, template=\"plotly_dark\")\n",
    "\n",
    "# 2. Call show_dash\n",
    "fig.show_dash(mode=\"inline\")\n"
   ]
  },
  {
   "cell_type": "markdown",
   "id": "7d828610",
   "metadata": {
    "pycharm": {
     "name": "#%% md\n"
    }
   },
   "source": [
    "For the `FigureWidgetResampler` use case, you only need to chance way of displaying the figure"
   ]
  },
  {
   "cell_type": "code",
   "execution_count": null,
   "id": "ef449619",
   "metadata": {
    "pycharm": {
     "name": "#%%\n"
    }
   },
   "outputs": [],
   "source": [
    "# Same content as above, but using the FigureWidgetResampler class\n",
    "fig = FigureWidgetResampler(go.Figure())\n",
    "fig.add_trace(go.Scattergl(showlegend=True), hf_x=x, hf_y=noisy_sine, max_n_samples=200)\n",
    "fig.add_trace(dict(x=x, y=noisy_sine + 1, name='sp1'), max_n_samples=2000)\n",
    "fig.update_layout(height=400, template=\"plotly_dark\")\n",
    "\n",
    "# Displaying the figure -> instead of `show_dash`, use IPython's `display`\n",
    "display(fig)\n"
   ]
  },
  {
   "cell_type": "code",
   "execution_count": null,
   "id": "ef449619",
   "metadata": {
    "pycharm": {
     "name": "#%%\n"
    }
   },
   "outputs": [],
   "source": [
    "# Same content as above, but using the FigureWidgetResampler class\n",
    "fig = FigureWidgetResampler(go.Figure())\n",
    "fig.add_trace(go.Scattergl(showlegend=True), hf_x=x, hf_y=noisy_sine, max_n_samples=900)\n",
    "fig.update_layout(height=400, template=\"plotly_dark\")\n",
    "\n",
    "# Displaying the figure -> instead of `show_dash`, use IPython's `display`\n",
    "display(fig)\n"
   ]
  },
  {
   "cell_type": "markdown",
   "id": "9bfc2726",
   "metadata": {
    "pycharm": {
     "name": "#%% md\n"
    }
   },
   "source": [
    "# Advanced stuff"
   ]
  },
  {
   "cell_type": "markdown",
   "id": "f4dfa7df",
   "metadata": {
    "pycharm": {
     "name": "#%% md\n"
    }
   },
   "source": [
    "## `plotly-resampler` notebook figure retention|serialization"
   ]
  },
  {
   "cell_type": "markdown",
   "id": "e5f559f9",
   "metadata": {
    "pycharm": {
     "name": "#%% md\n"
    }
   },
   "source": [
    "It is often useful to still retain a figure after your notebook is disconnected from your python kernel, e.g., when exported to html.\n",
    "\n",
    "To this end, the `\"inline_persistent\"` argument was added to the `FigureResampler.show_dash` which outputs a static image (of the global aggregated view) when the kernel is disconnected.<br>\n",
    "The example below illustrates this behavior\n",
    "\n",
    "> **Note**: \n",
    "> * you must have `kaleido` installed for this to work.\n",
    "> * The static output figure will only be shown in environments where javascript code is allowed to execute."
   ]
  },
  {
   "cell_type": "markdown",
   "id": "b3768f13",
   "metadata": {
    "pycharm": {
     "name": "#%% md\n"
    }
   },
   "source": [
    "<details> <summary><b>How is this implemented?</b></summary>\n",
    "We create a JupyterDash subclass which extends the \"inline\" visualization capabilities with the functionality described above.<br>\n",
    "This extension is triggered when <i>\"inline_persistent\"</i> is used in the <code>FigureResampler.show_dash</code> method.<br>\n",
    "\n",
    "<ul>\n",
    "    <li>we add a unique _uid to each object</li>\n",
    "    <li>we add a new endpoint to the underlying flask app that</li><ul>\n",
    "        <li>is only accessible via the corresponding app its _uid</li>\n",
    "        <li>has CORS rights for any origin and 'Content-Type' headers</li>\n",
    "        </ul>\n",
    "        <li>Note that this is the only CORS endpoint of the JupyterDash app & is only preset when \"inline_persistent\" is used!</li>\n",
    "    <li>we check in the JavaScript output of the notebook cell whether that endpoint is reachable and emits the expected message (i.e., \"Alive\")</li><ul>\n",
    "        <li>if check is successful => display an iframe of the running Jupyter dash app</li>\n",
    "        <li>if check is not successful => display a static image</li>\n",
    "    </ul>\n",
    "</ul>\n",
    "</details>\n",
    "<details> <summary><b>How does this work?</b></summary>\n",
    "    Some additional JavaScript code is added to the <code>IPython.display.display</code> method, which contains a <i>base64</i> bytarray image of the shown figure.<br>\n",
    "    When the dash app is not reachable, the image is shown instead of the iframe (which embedded the connected dash app).<br>\n",
    "    This works because the JavaScript in the notebook output cells gets executed each time a notebook is loaded (❗the kernel should not be running for this to happen).\n",
    "</details>"
   ]
  },
  {
   "cell_type": "code",
   "execution_count": 4,
   "id": "b9c1aedd",
   "metadata": {
    "pycharm": {
     "name": "#%%\n"
    }
   },
   "outputs": [
    {
     "data": {
      "text/html": [
       "\n",
       "                <div id='PR_div__aaa576c7-5e78-479c-a395-44583299f48f'></div>\n",
       "                <script type='text/javascript'>\n",
       "                \n",
       "\n",
       "                function setOutput(timeout) {\n",
       "                    \n",
       "                    var pr_div = document.getElementById('PR_div__aaa576c7-5e78-479c-a395-44583299f48f');\n",
       "                    var url = 'http://127.0.0.1:8050/';\n",
       "                    var pr_img_src = 'data:image/png;base64, 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';\n",
       "                    var is_alive_suffix = '_is_alive_aaa576c7-5e78-479c-a395-44583299f48f';\n",
       "                    \n",
       "\n",
       "                    if (pr_div.firstChild) return  // return if already loaded\n",
       "\n",
       "                    const controller = new AbortController();\n",
       "                    const signal = controller.signal;\n",
       "\n",
       "                    return fetch(url + is_alive_suffix, {method: 'GET', signal: signal})\n",
       "                        .then(response => response.text())\n",
       "                        .then(data =>\n",
       "                            {\n",
       "                                if (data == \"Alive\") {\n",
       "                                    console.log(\"Server is alive\");\n",
       "                                    iframeOutput(pr_div, url);\n",
       "                                } else {\n",
       "                                    // I think this case will never occur because of CORS\n",
       "                                    console.log(\"Server is dead\");\n",
       "                                    imageOutput(pr_div, pr_img_src);\n",
       "                                }\n",
       "                            }\n",
       "                        )\n",
       "                        .catch(error => {\n",
       "                            console.log(\"Server is unreachable\");\n",
       "                            imageOutput(pr_div, pr_img_src);\n",
       "                        })\n",
       "                }\n",
       "\n",
       "                setOutput(350);\n",
       "\n",
       "                function imageOutput(element, pr_img_src) {\n",
       "                    console.log('Setting image');\n",
       "                    var pr_img = document.createElement(\"img\");\n",
       "                    pr_img.setAttribute(\"src\", pr_img_src)\n",
       "                    pr_img.setAttribute(\"alt\", 'Server unreachable - using image instead');\n",
       "                    \n",
       "                    pr_img.setAttribute(\"max-width\", '100%');\n",
       "                    pr_img.setAttribute(\"max-height\", '418');\n",
       "                    pr_img.setAttribute(\"width\", 'auto');\n",
       "                    pr_img.setAttribute(\"height\", 'auto');\n",
       "                    \n",
       "                    element.appendChild(pr_img);\n",
       "                }\n",
       "\n",
       "                function iframeOutput(element, url) {\n",
       "                    console.log('Setting iframe');\n",
       "                    var pr_iframe = document.createElement(\"iframe\");\n",
       "                    pr_iframe.setAttribute(\"src\", url);\n",
       "                    pr_iframe.setAttribute(\"frameborder\", '0');\n",
       "                    pr_iframe.setAttribute(\"allowfullscreen\", '');\n",
       "                    \n",
       "                    pr_iframe.setAttribute(\"width\", '100%');\n",
       "                    pr_iframe.setAttribute(\"height\", '418');\n",
       "                    \n",
       "                    element.appendChild(pr_iframe);\n",
       "                }\n",
       "                </script>\n",
       "                "
      ]
     },
     "metadata": {},
     "output_type": "display_data"
    }
   ],
   "source": [
    "fig = FigureResampler(go.Figure())\n",
    "fig.add_trace(go.Scattergl(showlegend=True), hf_x=x, hf_y=noisy_sine, max_n_samples=900)\n",
    "fig.update_layout(height=400, template=\"plotly_white\")\n",
    "\n",
    "# Displaying the figure -> instead of `show_dash`, use IPython's `display`\n",
    "fig.show_dash(mode=\"inline_persistent\")"
   ]
  },
  {
   "cell_type": "markdown",
   "id": "0a3761fd",
   "metadata": {
    "pycharm": {
     "name": "#%% md\n"
    }
   },
   "source": [
    "When you:\n",
    "* restart the kernel; and reopen this notebook\n",
    "* export this notebook to html\n",
    "\n",
    "you should see a static (aggregated) image of the above figure"
   ]
  },
  {
   "cell_type": "markdown",
   "id": "b997c178",
   "metadata": {
    "pycharm": {
     "name": "#%% md\n"
    }
   },
   "source": [
    "## Adjusting the data of your plotly-resampler figure at runtime"
   ]
  },
  {
   "cell_type": "markdown",
   "id": "28f10919",
   "metadata": {
    "pycharm": {
     "name": "#%% md\n"
    }
   },
   "source": [
    "The `hf_data` property of the `FigureResampler` / `FigureWidgetResampler` can be used to change figure data at runtime"
   ]
  },
  {
   "cell_type": "markdown",
   "id": "d0ce62a4",
   "metadata": {
    "pycharm": {
     "name": "#%% md\n"
    }
   },
   "source": [
    "### `FigureResampler`"
   ]
  },
  {
   "cell_type": "code",
   "execution_count": null,
   "id": "499ac9f3",
   "metadata": {
    "pycharm": {
     "name": "#%%\n"
    }
   },
   "outputs": [],
   "source": [
    "fig = FigureResampler(go.Figure())\n",
    "fig.add_trace(go.Scattergl(showlegend=True, name=\"noisy_sine\"), hf_y=noisy_sine)\n",
    "display(fig.hf_data)\n",
    "fig.show_dash(mode=\"inline\")\n"
   ]
  },
  {
   "cell_type": "markdown",
   "id": "6bffa11a",
   "metadata": {
    "pycharm": {
     "name": "#%% md\n"
    }
   },
   "source": [
    "Now we adjust the figure data  \n",
    "**Note**: after running the cell below, we need to manually trigger a graph update (by for example zooming / resetting the axes) to ensure that the new data is shown."
   ]
  },
  {
   "cell_type": "code",
   "execution_count": null,
   "id": "94127fae",
   "metadata": {
    "pycharm": {
     "name": "#%%\n"
    }
   },
   "outputs": [],
   "source": [
    "fig.hf_data[0][\"y\"] = -10 * noisy_sine\n",
    "# make sure to interact win the figure to see the change\n"
   ]
  },
  {
   "cell_type": "markdown",
   "id": "784d8464",
   "metadata": {
    "pycharm": {
     "name": "#%% md\n"
    }
   },
   "source": [
    "### `FigureWidgetResampler`"
   ]
  },
  {
   "cell_type": "code",
   "execution_count": null,
   "id": "9a0a0870",
   "metadata": {
    "pycharm": {
     "name": "#%%\n"
    }
   },
   "outputs": [],
   "source": [
    "fig = FigureWidgetResampler(go.Figure())\n",
    "fig.add_trace(go.Scattergl(showlegend=True, name=\"noisy_sine\"), hf_y=noisy_sine)\n",
    "display(fig.hf_data)\n",
    "display(fig)\n"
   ]
  },
  {
   "cell_type": "markdown",
   "id": "22687274",
   "metadata": {
    "pycharm": {
     "name": "#%% md\n"
    }
   },
   "source": [
    "Now we adjust the figure data  \n",
    "**Note**: after running the cell below, we need to manually trigger a graph update (by for example zooming / resetting the axes) to ensure that the new data is shown."
   ]
  },
  {
   "cell_type": "code",
   "execution_count": null,
   "id": "850abc7c",
   "metadata": {
    "pycharm": {
     "name": "#%%\n"
    }
   },
   "outputs": [],
   "source": [
    "fig.hf_data[0][\"y\"] = 10 * noisy_sine**2\n"
   ]
  },
  {
   "cell_type": "markdown",
   "id": "f4130fac",
   "metadata": {
    "pycharm": {
     "name": "#%% md\n"
    }
   },
   "source": [
    "**Pro tip**: `FigureWidgetResampler` has the `reload_data` and `reset_axes` methods to do this automatically"
   ]
  },
  {
   "cell_type": "code",
   "execution_count": null,
   "id": "726f0c08",
   "metadata": {
    "pycharm": {
     "name": "#%%\n"
    }
   },
   "outputs": [],
   "source": [
    "fig.hf_data[0][\"y\"] = -10 * noisy_sine**2\n",
    "# the reload data function keeps the current zoom level\n",
    "fig.reload_data()\n"
   ]
  },
  {
   "cell_type": "code",
   "execution_count": null,
   "id": "8cbfca3d",
   "metadata": {
    "pycharm": {
     "name": "#%%\n"
    }
   },
   "outputs": [],
   "source": [
    "fig.hf_data[0][\"y\"] = 10 * noisy_sine**.1\n",
    "# the reset axes\n",
    "fig.reset_axes()\n"
   ]
  },
  {
   "cell_type": "markdown",
   "id": "0846eaa3",
   "metadata": {
    "pycharm": {
     "name": "#%% md\n"
    }
   },
   "source": [
    "## Different downsampler & number of shown samples per trace"
   ]
  },
  {
   "cell_type": "markdown",
   "id": "2c0f1aff",
   "metadata": {
    "pycharm": {
     "name": "#%% md\n"
    }
   },
   "source": [
    "To achieve this, you only need to adjust the `max_n_samples` per trace; see the example below"
   ]
  },
  {
   "cell_type": "code",
   "execution_count": null,
   "id": "193e26f5",
   "metadata": {
    "pycharm": {
     "name": "#%%\n"
    }
   },
   "outputs": [],
   "source": [
    "fig = FigureResampler(go.Figure())\n",
    "\n",
    "fig.add_trace(go.Scattergl(showlegend=True), hf_x=x, hf_y=noisy_sine, max_n_samples=100)\n",
    "fig.add_trace(dict(x=x, y=noisy_sine + 1, name=\"sp1\"), max_n_samples=2000)\n",
    "fig.add_trace(\n",
    "    dict(x=x, y=noisy_sine + 5, name=\"sp5\"),\n",
    "    max_n_samples=300,\n",
    "    downsampler=EveryNthPoint(),\n",
    ")\n",
    "\n",
    "\n",
    "# Optional: update the layout\n",
    "fig.update_layout(height=400, template=\"plotly_dark\")\n",
    "\n",
    "# 2. Call show_dash\n",
    "fig.show_dash(mode=\"inline\")\n"
   ]
  },
  {
   "cell_type": "markdown",
   "id": "74e64a79",
   "metadata": {
    "pycharm": {
     "name": "#%% md\n"
    }
   },
   "source": [
    "---"
   ]
  },
  {
   "cell_type": "markdown",
   "id": "192a74fb",
   "metadata": {
    "pycharm": {
     "name": "#%% md\n"
    }
   },
   "source": [
    "# Various other examples"
   ]
  },
  {
   "cell_type": "markdown",
   "id": "c7962301",
   "metadata": {
    "pycharm": {
     "name": "#%% md\n"
    }
   },
   "source": [
    "The visualizations below shows how you plotly-resampler is used for various visualization configurations."
   ]
  },
  {
   "cell_type": "markdown",
   "id": "62535963",
   "metadata": {
    "tags": [],
    "pycharm": {
     "name": "#%% md\n"
    }
   },
   "source": [
    "## The example `.gif` from the docs/README"
   ]
  },
  {
   "cell_type": "markdown",
   "id": "d2f83be8",
   "metadata": {
    "pycharm": {
     "name": "#%% md\n"
    }
   },
   "source": [
    "Note how:\n",
    "* The example figure withholds both time-indexed data and numeric-indexed data\n",
    "* The power-consumption data uses `2,000` samples per trace (`max_n_samples`), whilst the other signals use the default of `1,000` samples per trace.\n",
    "* The swimming pool trace uses another downsampling method (`EveryNthPoint`)\n",
    "* The swimming pool trace uses `hf_hovertext` which shows the mean # of pool visitors of the last hour. \n"
   ]
  },
  {
   "cell_type": "code",
   "execution_count": null,
   "id": "7384c081-a733-41e5-a80c-99b7b31d0520",
   "metadata": {
    "pycharm": {
     "name": "#%%\n"
    }
   },
   "outputs": [],
   "source": [
    "# ------------ loading the data -----------\n",
    "df_gusb = pd.read_parquet(\"data/df_gusb.parquet\")\n",
    "df_data_pc = pd.read_parquet(\"data/df_pc_test.parquet\")\n",
    "\n",
    "# Create a noisy sine\n",
    "n = 110_000_00  # 0\n",
    "x = np.arange(n)\n",
    "noisy_sine = (3 + np.sin(x / 200_000) + np.random.randn(n) / 10) * x / 100_000\n"
   ]
  },
  {
   "cell_type": "code",
   "execution_count": null,
   "id": "c1f1d9a2-63a1-484e-a346-ae6b04c997b6",
   "metadata": {
    "tags": [],
    "pycharm": {
     "name": "#%%\n"
    }
   },
   "outputs": [],
   "source": [
    "fig = FigureResampler(\n",
    "    make_subplots(\n",
    "        rows=2,\n",
    "        cols=2,\n",
    "        specs=[[{}, {}], [{\"colspan\": 2}, None]],\n",
    "        subplot_titles=(\"GUSB swimming pool\", \"Generated sine\", \"Power consumption\"),\n",
    "        vertical_spacing=0.12,\n",
    "    ),\n",
    "    default_n_shown_samples=1000,\n",
    "    verbose=False,\n",
    ")\n",
    "\n",
    "\n",
    "# ------------ swimming pool data -----------\n",
    "df_gusb_pool = df_gusb[\"zwembad\"].last(\"4D\").dropna()\n",
    "fig.add_trace(\n",
    "    go.Scattergl(\n",
    "        x=df_gusb_pool.index,\n",
    "        y=df_gusb_pool.astype(\"uint16\"),\n",
    "        mode=\"markers\",\n",
    "        marker_size=5,\n",
    "        name=\"occupancy\",\n",
    "        # showlegend=False,\n",
    "    ),\n",
    "    hf_hovertext=\"mean last hour: \"\n",
    "    + df_gusb_pool.rolling(\"1h\").mean().astype(int).astype(str),\n",
    "    downsampler=EveryNthPoint(interleave_gaps=False),\n",
    "    row=1,\n",
    "    col=1,\n",
    ")\n",
    "fig.update_yaxes(title_text=\"Occupancy\", row=1, col=1)\n",
    "\n",
    "\n",
    "# ----------------- generated sine -----------\n",
    "fig.add_trace(\n",
    "    dict(name=\"sin\", line_color=\"#26b2e0\"),\n",
    "    hf_x=x,\n",
    "    hf_y=noisy_sine,\n",
    "    row=1,\n",
    "    col=2,\n",
    ")\n",
    "\n",
    "# ------------- Power consumption data -------------\n",
    "df_data_pc = df_data_pc.last(\"190D\")\n",
    "for i, c in enumerate(df_data_pc.columns):\n",
    "    fig.add_trace(\n",
    "        go.Scattergl(name=f\"R-{i+1}\", line_width=1),\n",
    "        hf_x=df_data_pc.index,\n",
    "        hf_y=df_data_pc[c],\n",
    "        max_n_samples=2_000,  # The power consumption data uses 2,000 samples per trace\n",
    "        row=2,\n",
    "        col=1,\n",
    "    )\n",
    "\n",
    "fig.update_layout(height=650)\n",
    "fig.update_yaxes(title_text=\"Watt/hour\", row=2, col=1)\n",
    "fig.update_layout(\n",
    "    title=\"<b>Plotly-Resampler demo</b>\",\n",
    "    title_x=0.5,\n",
    "    legend_traceorder=\"normal\",\n",
    "    legend=dict(orientation=\"h\", y=1.11, xanchor=\"left\", x=0),\n",
    ")\n",
    "\n",
    "fig.show_dash(mode=\"inline\", debug=True, port=9029)\n"
   ]
  },
  {
   "cell_type": "markdown",
   "id": "28b02cff",
   "metadata": {
    "pycharm": {
     "name": "#%% md\n"
    }
   },
   "source": [
    "## Converting a `go.Figure`, with its traces, into a `FigureResampler`"
   ]
  },
  {
   "cell_type": "markdown",
   "id": "20b9cef4",
   "metadata": {
    "pycharm": {
     "name": "#%% md\n"
    }
   },
   "source": [
    "This example first creates the `.gif` figure (with less data, otherwise the graph construction time would be too long) and then uses the  `convert_existing_traces` argument of the FigureResampler constructor to convert this into a FigureResampler figure."
   ]
  },
  {
   "cell_type": "code",
   "execution_count": null,
   "id": "4e239eda",
   "metadata": {
    "pycharm": {
     "name": "#%%\n"
    }
   },
   "outputs": [],
   "source": [
    "from plotly_resampler import unregister_plotly_resampler\n",
    "unregister_plotly_resampler()"
   ]
  },
  {
   "cell_type": "code",
   "execution_count": null,
   "id": "0941f11a",
   "metadata": {
    "pycharm": {
     "name": "#%%\n"
    }
   },
   "outputs": [],
   "source": [
    "df_gusb = pd.read_parquet(f\"data/df_gusb.parquet\")\n",
    "df_data_pc = pd.read_parquet(f\"data/df_pc_test.parquet\")\n",
    "\n",
    "n = 110_000\n",
    "x = np.arange(n)\n",
    "noisy_sine = (3 + np.sin(x / 2_000) + np.random.randn(n) / 10) * x / 2_000\n",
    "\n",
    "# construct a normal figure object instead of a figureResample object\n",
    "fig = make_subplots(\n",
    "    rows=2,\n",
    "    cols=2,\n",
    "    specs=[[{}, {}], [{\"colspan\": 2}, None]],\n",
    "    subplot_titles=(\"GUSB swimming pool\", \"Generated sine\", \"Power consumption\"),\n",
    "    vertical_spacing=0.12,\n",
    ")\n",
    "\n",
    "\n",
    "# ------------ swimming pool data -----------\n",
    "df_gusb_pool = df_gusb[\"zwembad\"].last(\"4D\").dropna()\n",
    "fig.add_trace(\n",
    "    go.Scattergl(\n",
    "        x=df_gusb_pool.index,\n",
    "        y=df_gusb_pool,  # .astype(\"uint16\"),\n",
    "        mode=\"markers\",\n",
    "        marker_size=5,\n",
    "        name=\"occupancy\",\n",
    "        showlegend=True,\n",
    "        hovertext=\"mean last hour: \"\n",
    "        + df_gusb_pool.rolling(\"1h\").mean().astype(int).astype(str),\n",
    "    ),\n",
    "    # downsampler=EveryNthPoint(interleave_gaps=False),\n",
    "    row=1,\n",
    "    col=1,\n",
    ")\n",
    "fig.update_yaxes(title_text=\"Occupancy\", row=1, col=1)\n",
    "\n",
    "\n",
    "# ----------------- generated sine -----------\n",
    "fig.add_trace(\n",
    "    go.Scattergl(name=\"sin\", line_color=\"#26b2e0\", x=x, y=noisy_sine),\n",
    "    row=1,\n",
    "    col=2,\n",
    ")\n",
    "\n",
    "# ------------- Power consumption data -------------\n",
    "df_data_pc = df_data_pc.last(\"50D\")\n",
    "for i, c in enumerate(df_data_pc.columns):\n",
    "    fig.add_trace(\n",
    "        go.Scattergl(\n",
    "            name=f\"room {i+1}\",\n",
    "            x=df_data_pc.index,\n",
    "            y=df_data_pc[c],\n",
    "        ),\n",
    "        row=2,\n",
    "        col=1,\n",
    "    )\n",
    "\n",
    "fig.update_layout(height=600)\n",
    "fig.update_yaxes(title_text=\"Watt/hour\", row=2, col=1)\n",
    "fig.update_layout(\n",
    "    title=\"<b>Plotly-Resampler demo - fig base</b>\",\n",
    "    title_x=0.5,\n",
    "    legend_traceorder=\"normal\",\n",
    "    legend=dict(orientation=\"h\", y=1.11, xanchor=\"left\", x=0),\n",
    ")\n"
   ]
  },
  {
   "cell_type": "markdown",
   "id": "b863e42c",
   "metadata": {
    "pycharm": {
     "name": "#%% md\n"
    }
   },
   "source": [
    "Note how the `data` property shape is the raw data size"
   ]
  },
  {
   "cell_type": "code",
   "execution_count": null,
   "id": "ad0a05d3",
   "metadata": {
    "pycharm": {
     "name": "#%%\n"
    }
   },
   "outputs": [],
   "source": [
    "fig.data[1][\"x\"].shape\n"
   ]
  },
  {
   "cell_type": "code",
   "execution_count": null,
   "id": "c38f7f52",
   "metadata": {
    "pycharm": {
     "name": "#%%\n"
    }
   },
   "outputs": [],
   "source": [
    "# Convert the figure into a figurResampler figure by decorating it\n",
    "fr_fig = FigureResampler(fig, default_n_shown_samples=500, convert_existing_traces=True)\n",
    "fr_fig.show_dash(mode=\"inline\")\n"
   ]
  },
  {
   "cell_type": "code",
   "execution_count": null,
   "id": "dbfa7ef8",
   "metadata": {
    "pycharm": {
     "name": "#%%\n"
    }
   },
   "outputs": [],
   "source": [
    "print(\"aggregated data    \", fr_fig.data[1][\"x\"].shape)\n",
    "print(\"raw data (hf_data) \", fr_fig.hf_data[1][\"x\"].shape)\n",
    "\n",
    "# The data-shape of the original figure stil remains the same\n",
    "fig.data[1][\"x\"].shape"
   ]
  },
  {
   "cell_type": "markdown",
   "id": "f46d0691",
   "metadata": {
    "pycharm": {
     "name": "#%% md\n"
    }
   },
   "source": [
    "**Note**:\n",
    "* the data size of `fr_fig` is reduced to `default_n_shown_samples` (_500_) but the original `fig` data is still equal to `110_000`.\n",
    "* the raw data can be accessed and altered using the `hf_data` of the FigureResampler object ⬇️\n"
   ]
  },
  {
   "cell_type": "code",
   "execution_count": null,
   "id": "d7c10446",
   "metadata": {
    "pycharm": {
     "name": "#%%\n"
    }
   },
   "outputs": [],
   "source": [
    "# We flip and take the sqarquere root of the data\n",
    "fr_fig.hf_data[1][\"y\"] = -(noisy_sine**2)\n",
    "\n",
    "# Make sure to interact witht he `Generated sine` subplot to see the changes"
   ]
  },
  {
   "cell_type": "markdown",
   "id": "dd77941a",
   "metadata": {
    "tags": [],
    "pycharm": {
     "name": "#%% md\n"
    }
   },
   "source": [
    "## Skin conductance example"
   ]
  },
  {
   "cell_type": "markdown",
   "id": "2ea4e74a",
   "metadata": {
    "pycharm": {
     "name": "#%% md\n"
    }
   },
   "source": [
    "This example is especially interesting as it **uses a _background-color_ to indicate a signal quality**.\n",
    "\n",
    "To ensure the consistency of this background color use; we set `interleave_gaps` to False for the signal quality trace its downsampler.\n"
   ]
  },
  {
   "cell_type": "code",
   "execution_count": null,
   "id": "3cc6fef1",
   "metadata": {
    "pycharm": {
     "name": "#%%\n"
    }
   },
   "outputs": [],
   "source": [
    "df_gsr = pd.read_parquet(\"data/processed_gsr.parquet\")\n"
   ]
  },
  {
   "cell_type": "code",
   "execution_count": null,
   "id": "71758f03",
   "metadata": {
    "pycharm": {
     "name": "#%%\n"
    }
   },
   "outputs": [],
   "source": [
    "fig = FigureResampler(\n",
    "    make_subplots(\n",
    "        rows=2,\n",
    "        cols=1,\n",
    "        specs=[[{\"secondary_y\": True}], [{}]],\n",
    "        shared_xaxes=True,\n",
    "    ),\n",
    "    default_n_shown_samples=1_000,\n",
    "    verbose=False,\n",
    ")\n",
    "fig.update_layout(height=600, title=\"skin conductance example\", title_x=0.5)\n",
    "\n",
    "\n",
    "# -------------------------------- ROW 1 --------------------------------\n",
    "# Add the skin conductance signals\n",
    "for c in [\"EDA\", \"EDA_lf_cleaned\", \"EDA_lf_cleaned_tonic\"]:\n",
    "    fig.add_trace(go.Scattergl(name=c), hf_x=df_gsr.index, hf_y=df_gsr[c], row=1, col=1)\n",
    "\n",
    "\n",
    "# Show the Skin Conductance Response Peaks (SCR)\n",
    "df_peaks = df_gsr[df_gsr[\"SCR_Peaks_neurokit_reduced_acc\"] == 1]\n",
    "fig.add_trace(\n",
    "    trace=go.Scattergl(\n",
    "        x=df_peaks.index,\n",
    "        y=df_peaks[\"EDA_lf_cleaned\"],\n",
    "        visible=\"legendonly\",\n",
    "        mode=\"markers\",\n",
    "        marker_symbol=\"cross\",\n",
    "        marker_size=15,\n",
    "        marker_color=\"red\",\n",
    "        name=\"SCR peaks\",\n",
    "    ),\n",
    "    # Set limit_to_view to true so that the peaks disappear when out-of view-range\n",
    "    # and thus not disturb the autoscale!!!\n",
    "    limit_to_view=True,\n",
    ")\n",
    "\n",
    "\n",
    "# Display the skin conductance Signal Quality as background\n",
    "df_grouped = groupby_consecutive(df_gsr[\"EDA_SQI\"])\n",
    "df_grouped[\"EDA_SQI\"] = df_grouped[\"EDA_SQI\"].map(bool)\n",
    "df_grouped[\"good_sqi\"] = df_grouped[\"EDA_SQI\"].map(int)\n",
    "df_grouped[\"bad_sqi\"] = (~df_grouped[\"EDA_SQI\"]).map(int)\n",
    "for sqi_col, col_or in [\n",
    "    (\"good_sqi\", \"#2ca02c\"),\n",
    "    (\"bad_sqi\", \"#d62728\"),\n",
    "]:\n",
    "    fig.add_trace(\n",
    "        go.Scattergl(\n",
    "            x=df_grouped[\"start\"],\n",
    "            y=df_grouped[sqi_col],\n",
    "            mode=\"lines\",\n",
    "            line_width=0,\n",
    "            fill=\"tozeroy\",\n",
    "            fillcolor=col_or,\n",
    "            opacity=0.1 if \"good\" in sqi_col else 0.2,\n",
    "            line_shape=\"hv\",\n",
    "            name=sqi_col,\n",
    "            showlegend=False,\n",
    "        ),\n",
    "        # The most important thing here is that interleave gaps is set to True\n",
    "        # Additionally, the limit-to-view also ensures that the autoscale is not\n",
    "        # disturbed.\n",
    "        # downsampler=EveryNthPoint(interleave_gaps=False),\n",
    "        limit_to_view=True,\n",
    "        secondary_y=True,\n",
    "    )\n",
    "\n",
    "\n",
    "# -------------------------------- ROW 2 --------------------------------\n",
    "# show the phasic EDA component\n",
    "fig.add_trace(\n",
    "    {\"name\": \"EDA_Phasic\", \"visible\": \"legendonly\", \"type\": \"scattergl\"},\n",
    "    hf_x=df_gsr.index,\n",
    "    hf_y=df_gsr[\"EDA_Phasic\"],\n",
    "    row=2,\n",
    "    col=1,\n",
    ")\n",
    "\n",
    "fig.show_dash(mode=\"inline\", port=9022)\n"
   ]
  },
  {
   "cell_type": "markdown",
   "id": "2cfd9b5f-58c8-4711-9dc0-aa326a81fef9",
   "metadata": {
    "tags": [],
    "pycharm": {
     "name": "#%% md\n"
    }
   },
   "source": [
    "## Categorical series - box & histogram"
   ]
  },
  {
   "cell_type": "markdown",
   "id": "d75f128f",
   "metadata": {
    "pycharm": {
     "name": "#%% md\n"
    }
   },
   "source": [
    "This example highlights how `plotly-resampler` supports combining high-frequency trace-subplots \n",
    "with non-scatterlike traces such as a histogram & a boxplot."
   ]
  },
  {
   "cell_type": "code",
   "execution_count": null,
   "id": "fe548e0a-8f20-4b01-beec-ded7de144995",
   "metadata": {
    "pycharm": {
     "name": "#%%\n"
    }
   },
   "outputs": [],
   "source": [
    "# Create a categorical series, with mostly a's, but a few sparse b's and c's\n",
    "cats_list = np.array(list(\"aaaaaaaaaa\" * 1000))\n",
    "cats_list[np.random.choice(len(cats_list), 100, replace=False)] = \"b\"\n",
    "cats_list[np.random.choice(len(cats_list), 50, replace=False)] = \"c\"\n",
    "cat_series = pd.Series(\n",
    "    cats_list,\n",
    "    dtype=\"category\",\n",
    ")\n",
    "\n",
    "_nb_samples = 30_000\n",
    "x = np.arange(_nb_samples).astype(np.uint32)\n",
    "y = np.sin(x / 300).astype(np.float32) + np.random.randn(_nb_samples) / 5\n",
    "float_series = pd.Series(index=x, data=y)\n"
   ]
  },
  {
   "cell_type": "code",
   "execution_count": null,
   "id": "38b1f6b7-896e-48a3-a4b2-91a2bfa2f58b",
   "metadata": {
    "pycharm": {
     "name": "#%%\n"
    }
   },
   "outputs": [],
   "source": [
    "base_fig = make_subplots(\n",
    "    rows=2,\n",
    "    cols=2,\n",
    "    specs=[[{}, {}], [{\"colspan\": 2}, None]],\n",
    ")\n",
    "fig = FigureResampler(base_fig, default_n_shown_samples=1000, verbose=False)\n",
    "\n",
    "fig.add_trace(\n",
    "    go.Scattergl(name=\"cat_series\"),\n",
    "    hf_x=cat_series.index,\n",
    "    hf_y=cat_series,\n",
    "    row=1,\n",
    "    col=1,\n",
    "    hf_hovertext=\"text\",\n",
    ")\n",
    "\n",
    "fig.add_trace(go.Box(x=float_series.values, name=\"float_series\"), row=1, col=2)\n",
    "fig.add_trace(go.Box(x=float_series.values**2, name=\"float_series**2\"), row=1, col=2)\n",
    "\n",
    "# add a not hf-trace\n",
    "fig.add_trace(\n",
    "    go.Histogram(\n",
    "        x=float_series,\n",
    "        name=\"float_series\",\n",
    "    ),\n",
    "    row=2,\n",
    "    col=1,\n",
    ")\n",
    "fig.show_dash(mode=\"inline\", port=9032)\n"
   ]
  }
 ],
 "metadata": {
  "interpreter": {
   "hash": "7de7e435a0bf9ca45826b967e5fb3b58dc0ed05475145ede0348ba81bb2b2016"
  },
  "kernelspec": {
   "display_name": "Python 3.8.10 ('venv')",
   "language": "python",
   "name": "python3"
  },
  "language_info": {
   "codemirror_mode": {
    "name": "ipython",
    "version": 3
   },
   "file_extension": ".py",
   "mimetype": "text/x-python",
   "name": "python",
   "nbconvert_exporter": "python",
   "pygments_lexer": "ipython3",
   "version": "3.8.10"
  },
  "toc-autonumbering": true,
  "vscode": {
   "interpreter": {
    "hash": "4952185b1d9215b007df34ae0b5ad6f0c5a0f3a1c94f8ea3a8430d62fedca5d9"
   }
  }
 },
 "nbformat": 4,
 "nbformat_minor": 5
}